{
 "cells": [
  {
   "cell_type": "markdown",
   "id": "2e2fbdd9-1a2c-4490-b40a-56d47856ed28",
   "metadata": {},
   "source": [
    "# MLflow Model Versioning\n",
    "\n",
    "In this notebook, we explore how to **version machine learning models** using **MLflow**.  \n",
    "Model versioning is important because it allows us to keep track of different model iterations, compare them, and safely deploy the right version.\n",
    "\n",
    "We will cover two approaches:\n",
    "\n",
    "1. **Manual Versioning (UI based):**  \n",
    "   - Log the model during a run.  \n",
    "   - Use the MLflow UI to manually register and promote models.  \n",
    "\n",
    "2. **Automatic Versioning (Code based):**  \n",
    "   - Use `registered_model_name` parameter while logging.  \n",
    "   - MLflow automatically creates new versions for each run.  \n",
    "   - (Optional) Promote versions to *Staging/Production* either via UI or programmatically.\n",
    "\n",
    ">  Note: If you start MLflow with `mlflow ui`, promotion to stages (Staging/Production) must be done manually in the UI.  \n",
    "> For **programmatic stage promotion**, you need to run `mlflow server` with a backend store (e.g., SQLite or MySQL).\n",
    "\n"
   ]
  },
  {
   "cell_type": "markdown",
   "id": "b7a4aa14-caec-4e50-b780-9a16c4bc0e2c",
   "metadata": {},
   "source": [
    "# **MLOps: Model Versioning (Manual)**\n",
    "\n",
    "**Why model versioning?**\n",
    "\n",
    "- Reproducibility & lineage (know which run made which model)\n",
    "- Safe rollbacks if a new version fails\n",
    "- Approvals: move models through None → Staging → Production\n",
    "- Central catalog for collaboration\n",
    "- Prepares you for CI/CD automation"
   ]
  },
  {
   "cell_type": "markdown",
   "id": "7b666d46-47a9-484b-9cd5-680f2710906e",
   "metadata": {},
   "source": [
    "## Install dependencies"
   ]
  },
  {
   "cell_type": "code",
   "execution_count": null,
   "id": "452b65e3-cae5-4d3b-929d-9839855835f9",
   "metadata": {},
   "outputs": [],
   "source": [
    "%pip install -q mlflow scikit-learn numpy pandas"
   ]
  },
  {
   "cell_type": "markdown",
   "id": "4835b521-fae0-45c5-98a7-c617405dea30",
   "metadata": {},
   "source": [
    "## Start MLflow Tracking UI in a terminal\n",
    "Open Anaconda Prompt / Command Prompt, go to your project folder, and run:"
   ]
  },
  {
   "cell_type": "markdown",
   "id": "e581b402-de82-45bd-838b-bd4016c04a9b",
   "metadata": {},
   "source": [
    "```bash\n",
    "mlflow ui\n",
    "````\n",
    "By default, this will start the tracking server at:\n",
    "```\n",
    "http://127.0.0.1:5000\n",
    "```\n",
    "Keep this terminal open and running while you use MLflow in Jupyter."
   ]
  },
  {
   "cell_type": "markdown",
   "id": "a6c83474-cd30-49d6-a657-5c8f87565498",
   "metadata": {},
   "source": [
    "## Configure MLflow tracking & experiment"
   ]
  },
  {
   "cell_type": "code",
   "execution_count": 1,
   "id": "aefcfcd7-8774-4467-a972-5050b027b7ee",
   "metadata": {},
   "outputs": [
    {
     "name": "stdout",
     "output_type": "stream",
     "text": [
      "Tracking URI: http://127.0.0.1:5000\n"
     ]
    }
   ],
   "source": [
    "import warnings\n",
    "warnings.filterwarnings('ignore')\n",
    "import mlflow, mlflow.sklearn\n",
    "\n",
    "# Point this to your MLflow Tracking Server\n",
    "mlflow.set_tracking_uri(\"http://127.0.0.1:5000\")\n",
    "mlflow.set_experiment(\"Versioning\")\n",
    "\n",
    "print(\"Tracking URI:\", mlflow.get_tracking_uri())"
   ]
  },
  {
   "cell_type": "markdown",
   "id": "0fe53d6e-135c-419c-8feb-fa656a76cb81",
   "metadata": {},
   "source": [
    "## Prepare dataset"
   ]
  },
  {
   "cell_type": "code",
   "execution_count": 2,
   "id": "250803ba-a94e-4bb9-9a6d-b8f1d1f7d56f",
   "metadata": {},
   "outputs": [
    {
     "name": "stdout",
     "output_type": "stream",
     "text": [
      "Train shape: (700, 10)\n"
     ]
    }
   ],
   "source": [
    "from sklearn.datasets import make_classification\n",
    "from sklearn.model_selection import train_test_split\n",
    "from sklearn.linear_model import LogisticRegression\n",
    "from sklearn.metrics import classification_report\n",
    "import pandas as pd\n",
    "\n",
    "# Synthetic dataset\n",
    "X, y = make_classification(\n",
    "    n_samples=1000, n_features=10,\n",
    "    n_informative=2, n_redundant=8,\n",
    "    weights=[0.9, 0.1], random_state=42\n",
    ")\n",
    "X_train, X_test, y_train, y_test = train_test_split(\n",
    "    X, y, test_size=0.3, stratify=y, random_state=42\n",
    ")\n",
    "\n",
    "X_train_df = pd.DataFrame(X_train)\n",
    "print(\"Train shape:\", X_train_df.shape)"
   ]
  },
  {
   "cell_type": "markdown",
   "id": "c066bdbc-45bc-4a56-90f8-b47b03e7d8ff",
   "metadata": {},
   "source": [
    "## Train & log a model"
   ]
  },
  {
   "cell_type": "code",
   "execution_count": 3,
   "id": "7fbb9087-de4d-4018-aa75-b65ca6e6c71a",
   "metadata": {},
   "outputs": [
    {
     "name": "stderr",
     "output_type": "stream",
     "text": [
      "2025/08/25 10:48:25 WARNING mlflow.models.model: `artifact_path` is deprecated. Please use `name` instead.\n"
     ]
    },
    {
     "data": {
      "application/vnd.jupyter.widget-view+json": {
       "model_id": "bf5d61f292104bff86324ea88624fa4f",
       "version_major": 2,
       "version_minor": 0
      },
      "text/plain": [
       "Downloading artifacts:   0%|          | 0/7 [00:00<?, ?it/s]"
      ]
     },
     "metadata": {},
     "output_type": "display_data"
    },
    {
     "name": "stdout",
     "output_type": "stream",
     "text": [
      "Run ID: 31464588298341f1adc8d0b3b13fdc94\n",
      " Now open MLflow UI: http://127.0.0.1:5000\n",
      "🏃 View run upbeat-ox-946 at: http://127.0.0.1:5000/#/experiments/465653057739855358/runs/31464588298341f1adc8d0b3b13fdc94\n",
      "🧪 View experiment at: http://127.0.0.1:5000/#/experiments/465653057739855358\n"
     ]
    }
   ],
   "source": [
    "from mlflow.models import infer_signature\n",
    "\n",
    "params = {\"solver\": \"lbfgs\", \"max_iter\": 1000, \"random_state\": 42}\n",
    "\n",
    "with mlflow.start_run() as run:\n",
    "    model = LogisticRegression(**params)\n",
    "    model.fit(X_train, y_train)\n",
    "    y_pred = model.predict(X_test)\n",
    "    report = classification_report(y_test, y_pred, output_dict=True)\n",
    "\n",
    "    # Log params & metrics\n",
    "    mlflow.log_params(params)\n",
    "    mlflow.log_metrics({\n",
    "        \"accuracy\": report[\"accuracy\"],\n",
    "        \"f1_macro\": report[\"macro avg\"][\"f1-score\"],\n",
    "        \"recall_1\": report[\"1\"][\"recall\"]\n",
    "    })\n",
    "\n",
    "    # Log model with signature\n",
    "    signature = infer_signature(X_train_df, model.predict(X_train))\n",
    "    mlflow.sklearn.log_model(\n",
    "        model,\n",
    "        artifact_path=\"model\",\n",
    "        signature=signature,\n",
    "        input_example=X_train_df.iloc[:5]\n",
    "    )\n",
    "\n",
    "    print(\"Run ID:\", run.info.run_id)\n",
    "    print(\" Now open MLflow UI: http://127.0.0.1:5000\")\n"
   ]
  },
  {
   "cell_type": "markdown",
   "id": "f675f35d-347b-4af0-9c08-32ab2c1201a8",
   "metadata": {},
   "source": [
    "## Register manually (UI steps)\n",
    "\n",
    "- Run in terminal: mlflow ui\n",
    "- Open: http://127.0.0.1:5000\n",
    "- Go to: Experiments → Versioning → your run\n",
    "- Click Artifacts → model → Register model\n",
    "- Create new model (e.g., \"MyRegisteredModel\") → becomes Version 1\n",
    "- Train again, register again → becomes Version 2"
   ]
  },
  {
   "cell_type": "markdown",
   "id": "7acf041b-cad5-4c9d-952f-f95d784829e7",
   "metadata": {},
   "source": [
    "# MLOps: Model Versioning (Automatic)"
   ]
  },
  {
   "cell_type": "markdown",
   "id": "500a80e0-204e-4898-9b3a-637c7577b843",
   "metadata": {},
   "source": [
    "## Install dependencies"
   ]
  },
  {
   "cell_type": "code",
   "execution_count": null,
   "id": "30dced91-fa38-421f-aa2b-7c3d3b11b2aa",
   "metadata": {},
   "outputs": [],
   "source": [
    "%pip install -q mlflow scikit-learn numpy pandas"
   ]
  },
  {
   "cell_type": "markdown",
   "id": "c376dcf1-7b9d-417c-9b9e-b8dd8baaad16",
   "metadata": {},
   "source": [
    "## Configure MLflow tracking"
   ]
  },
  {
   "cell_type": "code",
   "execution_count": 4,
   "id": "a65e29db-e2d9-450b-86b8-90b740a459d8",
   "metadata": {},
   "outputs": [
    {
     "name": "stdout",
     "output_type": "stream",
     "text": [
      "Tracking URI: http://127.0.0.1:5000\n"
     ]
    }
   ],
   "source": [
    "import warnings\n",
    "warnings.filterwarnings('ignore')\n",
    "import mlflow, mlflow.sklearn\n",
    "\n",
    "mlflow.set_tracking_uri(\"http://127.0.0.1:5000\")\n",
    "mlflow.set_experiment(\"Automatic_Versioning\")\n",
    "\n",
    "print(\"Tracking URI:\", mlflow.get_tracking_uri())"
   ]
  },
  {
   "cell_type": "markdown",
   "id": "2f84de1c-611a-48d1-85f7-1ff6d3f0fd2c",
   "metadata": {},
   "source": [
    "## Prepare dataset"
   ]
  },
  {
   "cell_type": "code",
   "execution_count": 5,
   "id": "b78cf37f-ab94-4315-a846-f345da84bf54",
   "metadata": {},
   "outputs": [
    {
     "name": "stdout",
     "output_type": "stream",
     "text": [
      "Train shape: (700, 10)\n"
     ]
    }
   ],
   "source": [
    "from sklearn.datasets import make_classification\n",
    "from sklearn.model_selection import train_test_split\n",
    "from sklearn.linear_model import LogisticRegression\n",
    "from sklearn.metrics import classification_report\n",
    "import pandas as pd\n",
    "\n",
    "X, y = make_classification(\n",
    "    n_samples=1000, n_features=10,\n",
    "    n_informative=2, n_redundant=8,\n",
    "    weights=[0.9, 0.1], random_state=42\n",
    ")\n",
    "X_train, X_test, y_train, y_test = train_test_split(\n",
    "    X, y, test_size=0.3, stratify=y, random_state=42\n",
    ")\n",
    "\n",
    "X_train_df = pd.DataFrame(X_train)\n",
    "print(\"Train shape:\", X_train_df.shape)"
   ]
  },
  {
   "cell_type": "markdown",
   "id": "6c426fe7-49eb-4b26-a615-4e1914fb719e",
   "metadata": {},
   "source": [
    "## Train, log & auto-register"
   ]
  },
  {
   "cell_type": "code",
   "execution_count": 6,
   "id": "65e349f7-1068-4edb-adfc-0422f5ec090e",
   "metadata": {},
   "outputs": [
    {
     "name": "stderr",
     "output_type": "stream",
     "text": [
      "2025/08/25 10:49:04 WARNING mlflow.models.model: `artifact_path` is deprecated. Please use `name` instead.\n"
     ]
    },
    {
     "data": {
      "application/vnd.jupyter.widget-view+json": {
       "model_id": "78ce702062464a9fb98e62cb22867205",
       "version_major": 2,
       "version_minor": 0
      },
      "text/plain": [
       "Downloading artifacts:   0%|          | 0/7 [00:00<?, ?it/s]"
      ]
     },
     "metadata": {},
     "output_type": "display_data"
    },
    {
     "name": "stderr",
     "output_type": "stream",
     "text": [
      "Registered model 'MyAutoRegisteredModel' already exists. Creating a new version of this model...\n",
      "2025/08/25 10:49:20 INFO mlflow.store.model_registry.abstract_store: Waiting up to 300 seconds for model version to finish creation. Model name: MyAutoRegisteredModel, version 4\n",
      "Created version '4' of model 'MyAutoRegisteredModel'.\n"
     ]
    },
    {
     "name": "stdout",
     "output_type": "stream",
     "text": [
      "Run ID: a616d95e48c449c196098398870950a9\n",
      " Auto-registered under: MyAutoRegisteredModel\n",
      "🏃 View run likeable-robin-144 at: http://127.0.0.1:5000/#/experiments/636171260090459286/runs/a616d95e48c449c196098398870950a9\n",
      "🧪 View experiment at: http://127.0.0.1:5000/#/experiments/636171260090459286\n"
     ]
    }
   ],
   "source": [
    "from mlflow.models import infer_signature\n",
    "\n",
    "REGISTERED_NAME = \"MyAutoRegisteredModel\"  # change name if you want\n",
    "\n",
    "params = {\"solver\": \"lbfgs\", \"max_iter\": 1000, \"random_state\": 42}\n",
    "\n",
    "with mlflow.start_run() as run:\n",
    "    model = LogisticRegression(**params)\n",
    "    model.fit(X_train, y_train)\n",
    "    y_pred = model.predict(X_test)\n",
    "    report = classification_report(y_test, y_pred, output_dict=True)\n",
    "\n",
    "    mlflow.log_params(params)\n",
    "    mlflow.log_metrics({\n",
    "        \"accuracy\": report[\"accuracy\"],\n",
    "        \"f1_macro\": report[\"macro avg\"][\"f1-score\"],\n",
    "        \"recall_1\": report[\"1\"][\"recall\"]\n",
    "    })\n",
    "\n",
    "    # Auto-register model\n",
    "    signature = infer_signature(X_train_df, model.predict(X_train))\n",
    "    mlflow.sklearn.log_model(\n",
    "        model,\n",
    "        artifact_path=\"model\",\n",
    "        signature=signature,\n",
    "        input_example=X_train_df.iloc[:5],\n",
    "        registered_model_name=REGISTERED_NAME\n",
    "    )\n",
    "\n",
    "    print(\"Run ID:\", run.info.run_id)\n",
    "    print(\" Auto-registered under:\", REGISTERED_NAME)\n"
   ]
  },
  {
   "cell_type": "markdown",
   "id": "78e81dec-289b-4645-8881-5f97497d4cb6",
   "metadata": {},
   "source": [
    "## Check & promote programmatically"
   ]
  },
  {
   "cell_type": "code",
   "execution_count": null,
   "id": "4580ec13-be80-4e69-bb93-9f4245a4b9a7",
   "metadata": {},
   "outputs": [
    {
     "name": "stdout",
     "output_type": "stream",
     "text": [
      "Name: MyAutoRegisteredModel | Version: 5 | Stage: None\n",
      "Name: MyAutoRegisteredModel | Version: 4 | Stage: None\n",
      "Name: MyAutoRegisteredModel | Version: 2 | Stage: Archived\n",
      "Name: MyAutoRegisteredModel | Version: 3 | Stage: None\n",
      "Name: MyAutoRegisteredModel | Version: 1 | Stage: None\n"
     ]
    }
   ],
   "source": [
    "from mlflow.tracking import MlflowClient\n",
    "\n",
    "client = MlflowClient()\n",
    "versions = client.search_model_versions(f\"name='{REGISTERED_NAME}'\")\n",
    "\n",
    "for mv in versions:\n",
    "    print(\"Name:\", mv.name, \"| Version:\", mv.version, \"| Stage:\", mv.current_stage)\n",
    "\n",
    "# Promote latest version to Staging\n",
    "if versions:\n",
    "    latest_version = max(int(mv.version) for mv in versions)\n",
    "    client.transition_model_version_stage(\n",
    "        name=REGISTERED_NAME,\n",
    "        version=str(latest_version),\n",
    "        stage=\"Staging\",\n",
    "        archive_existing_versions=True\n",
    "    )\n",
    "    print(\" Promoted version\", latest_version, \"to Staging\")\n"
   ]
  },
  {
   "cell_type": "markdown",
   "id": "cba3208d-dcd1-42ef-b5ec-79dda00cdf94",
   "metadata": {},
   "source": [
    "- First run → Version 1\n",
    "- Second run (this code) → Version 2\n",
    "- MLflow UI → check Models → MyAutoRegisteredModel\n",
    "- You’ll see two versions listed"
   ]
  },
  {
   "cell_type": "markdown",
   "id": "5143d8be-7557-4133-90aa-8cdfe1c52b4a",
   "metadata": {},
   "source": [
    "## Code to Train Again (Version 2)"
   ]
  },
  {
   "cell_type": "code",
   "execution_count": 7,
   "id": "00911c3b-6139-445d-a294-b1a66c0e202f",
   "metadata": {},
   "outputs": [
    {
     "data": {
      "application/vnd.jupyter.widget-view+json": {
       "model_id": "356c5d5abfa34f6892f6e01db74e77ba",
       "version_major": 2,
       "version_minor": 0
      },
      "text/plain": [
       "Downloading artifacts:   0%|          | 0/7 [00:00<?, ?it/s]"
      ]
     },
     "metadata": {},
     "output_type": "display_data"
    },
    {
     "name": "stderr",
     "output_type": "stream",
     "text": [
      "Registered model 'MyAutoRegisteredModel' already exists. Creating a new version of this model...\n",
      "2025/08/25 10:50:14 INFO mlflow.store.model_registry.abstract_store: Waiting up to 300 seconds for model version to finish creation. Model name: MyAutoRegisteredModel, version 5\n",
      "Created version '5' of model 'MyAutoRegisteredModel'.\n"
     ]
    },
    {
     "name": "stdout",
     "output_type": "stream",
     "text": [
      "Run ID: 618ebc42c4e9433fbb1ebb54ad3b2f79\n",
      " Auto-registered new version under: MyAutoRegisteredModel\n",
      "🏃 View run bemused-gull-614 at: http://127.0.0.1:5000/#/experiments/636171260090459286/runs/618ebc42c4e9433fbb1ebb54ad3b2f79\n",
      "🧪 View experiment at: http://127.0.0.1:5000/#/experiments/636171260090459286\n"
     ]
    }
   ],
   "source": [
    "from sklearn.linear_model import LogisticRegression\n",
    "from sklearn.metrics import classification_report\n",
    "from mlflow.models import infer_signature\n",
    "import mlflow\n",
    "\n",
    "REGISTERED_NAME = \"MyAutoRegisteredModel\"  # same name as before\n",
    "\n",
    "params = {\"solver\": \"lbfgs\", \"max_iter\": 2000, \"random_state\": 99}  # slight change in params\n",
    "\n",
    "with mlflow.start_run() as run:\n",
    "    model = LogisticRegression(**params)\n",
    "    model.fit(X_train, y_train)\n",
    "    y_pred = model.predict(X_test)\n",
    "    report = classification_report(y_test, y_pred, output_dict=True)\n",
    "\n",
    "    # Log params & metrics\n",
    "    mlflow.log_params(params)\n",
    "    mlflow.log_metrics({\n",
    "        \"accuracy\": report[\"accuracy\"],\n",
    "        \"f1_macro\": report[\"macro avg\"][\"f1-score\"],\n",
    "        \"recall_1\": report[\"1\"][\"recall\"]\n",
    "    })\n",
    "\n",
    "    # Auto-register as new version\n",
    "    signature = infer_signature(X_train_df, model.predict(X_train))\n",
    "    mlflow.sklearn.log_model(\n",
    "        model,\n",
    "        name=\"model\",   # new MLflow syntax\n",
    "        signature=signature,\n",
    "        input_example=X_train_df.iloc[:5],\n",
    "        registered_model_name=REGISTERED_NAME\n",
    "    )\n",
    "\n",
    "    print(\"Run ID:\", run.info.run_id)\n",
    "    print(\" Auto-registered new version under:\", REGISTERED_NAME)\n"
   ]
  },
  {
   "cell_type": "markdown",
   "id": "c60710a5-39c6-4e4f-aee5-7a06969512e3",
   "metadata": {},
   "source": [
    "## Check Versions & Promote"
   ]
  },
  {
   "cell_type": "code",
   "execution_count": null,
   "id": "37941085-c049-4f61-b0c9-113782106d98",
   "metadata": {},
   "outputs": [],
   "source": [
    "from mlflow.tracking import MlflowClient\n",
    "\n",
    "client = MlflowClient()\n",
    "versions = client.search_model_versions(f\"name='{REGISTERED_NAME}'\")\n",
    "\n",
    "for mv in versions:\n",
    "    print(\"Name:\", mv.name, \"| Version:\", mv.version, \"| Stage:\", mv.current_stage)\n",
    "\n",
    "# Promote latest version to Staging\n",
    "if versions:\n",
    "    latest_version = max(int(mv.version) for mv in versions)\n",
    "    client.transition_model_version_stage(\n",
    "        name=REGISTERED_NAME,\n",
    "        version=str(latest_version),\n",
    "        stage=\"Staging\",\n",
    "        archive_existing_versions=True\n",
    "    )\n",
    "    print(\" Promoted version\", latest_version, \"to Staging\")\n"
   ]
  },
  {
   "cell_type": "markdown",
   "id": "00062b43-5fbe-4e37-9447-12ddfc8338e6",
   "metadata": {},
   "source": [
    "# MLflow Model Versioning\n",
    "\n",
    "In MLflow, we can version models in two ways:  \n",
    "1. **Manual Versioning (UI based)**  \n",
    "2. **Automatic Versioning (Code based with `registered_model_name`)**\n",
    "\n",
    "\n",
    "## Manual Model Versioning\n",
    "\n",
    "In manual versioning, we first log a model inside an experiment run, and then **manually register** it as a version in the UI.\n",
    "\n",
    "**Step 1: Experiments Page (o1)**\n",
    "\n",
    "![Experiments Page](o1.PNG)  \n",
    "\n",
    "Here we can see all experiments created. In this case, the experiment `Versioning` was used for manual registration.\n",
    "\n",
    "**Step 2: Run Details → Register Model (o2)**\n",
    "\n",
    "![Run Details](o2.PNG)  \n",
    "\n",
    "Inside the `Versioning` experiment, a run was executed. From the run details, under **Artifacts → model**, we click **Register Model**.  \n",
    "- If the model is new → create a new model name (`MyRegisteredModel`).  \n",
    "- If the model already exists → it will create **Version 2, 3, …** under that model.\n",
    "\n",
    "This way we manually control model versions from the UI.\n",
    "\n",
    "\n",
    "## 2. Automatic Model Versioning\n",
    "\n",
    "Automatic versioning happens directly from code when we pass `registered_model_name` while logging the model.  \n",
    "Every run automatically creates the next version.\n",
    "\n",
    "**Step 1: Experiments Page with Auto-Versioning (o3)**\n",
    "\n",
    "![Experiments Auto](o3.PNG)  \n",
    "\n",
    "Here a new experiment `Automatic_Versioning` was created when running code with `registered_model_name=\"MyAutoRegisteredModel\"`.\n",
    "\n",
    "**Step 2: Run Logs a Model (o4)**\n",
    "\n",
    "![Run with Model](o4.PNG)  \n",
    "\n",
    "In the run details, you can see the **Models column** already has the model logged. This is because the model was auto-registered in the registry without manual UI clicks.\n",
    "\n",
    "**Step 3: Model Registry with Multiple Versions (o5)**\n",
    "\n",
    "![Model Registry](o5.PNG)\n",
    "\n",
    "The **Model Registry** shows the registered model `MyAutoRegisteredModel`. Each time we re-run the code, a new version is created automatically (Version 1, 2, 3, …).  \n",
    "From here we can also promote versions to **Staging** or **Production**.\n",
    "\n",
    "**Summary**\n",
    "\n",
    "- **Manual Versioning**: Log the model → go to UI → register model manually → creates Version 1, 2, …  \n",
    "- **Automatic Versioning**: Use `registered_model_name` in code → each run automatically creates the next version in the registry.\n",
    "\n"
   ]
  },
  {
   "cell_type": "markdown",
   "id": "e78073e5-9d5a-4884-be6d-8ad9425d740e",
   "metadata": {},
   "source": [
    "# Conclusion\n",
    "\n",
    "In this notebook, we explored **MLflow Model Versioning** using two approaches:  \n",
    "\n",
    "1. **Manual Versioning (UI-based)** – registering models directly from the MLflow UI.  \n",
    "2. **Automatic Versioning (Code-based)** – registering models automatically using `registered_model_name` in the code.  \n",
    "\n",
    "We also learned how to track experiments, register models, and manage different **versions (v1, v2, …)** in the **Model Registry**.  \n",
    "Finally, we saw how models can be promoted to stages like **Staging** or **Production**, which is an essential part of the **MLOps lifecycle**.\n",
    "\n",
    " This sets the foundation for more advanced MLOps tasks like **CI/CD pipelines, deployment, and monitoring**.\n"
   ]
  }
 ],
 "metadata": {
  "kernelspec": {
   "display_name": "Python 3 (ipykernel)",
   "language": "python",
   "name": "python3"
  },
  "language_info": {
   "codemirror_mode": {
    "name": "ipython",
    "version": 3
   },
   "file_extension": ".py",
   "mimetype": "text/x-python",
   "name": "python",
   "nbconvert_exporter": "python",
   "pygments_lexer": "ipython3",
   "version": "3.13.5"
  }
 },
 "nbformat": 4,
 "nbformat_minor": 5
}
